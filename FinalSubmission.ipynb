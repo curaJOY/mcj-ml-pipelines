{
  "nbformat": 4,
  "nbformat_minor": 0,
  "metadata": {
    "colab": {
      "provenance": []
    },
    "kernelspec": {
      "name": "python3",
      "display_name": "Python 3"
    },
    "language_info": {
      "name": "python"
    }
  },
  "cells": [
    {
      "cell_type": "markdown",
      "source": [],
      "metadata": {
        "id": "GAKYEJI6BwwE"
      }
    },
    {
      "cell_type": "code",
      "source": [
        "import pandas as pd\n",
        "import re\n",
        "import string\n",
        "from sklearn.feature_extraction.text import TfidfVectorizer\n",
        "from sklearn.model_selection import train_test_split\n",
        "from sklearn.metrics import classification_report\n",
        "from nltk.corpus import stopwords\n",
        "from nltk.stem import WordNetLemmatizer\n",
        "from imblearn.over_sampling import SMOTE\n",
        "from xgboost import XGBClassifier\n",
        "import nltk\n",
        "\n",
        "# Download NLTK resources\n",
        "nltk.download('stopwords')\n",
        "nltk.download('wordnet')\n",
        "\n",
        "# Load dataset\n",
        "df = pd.read_csv(\"dataset.csv\", header=None)\n",
        "\n",
        "# Parse the text and label using regex\n",
        "def extract_text_and_label(row):\n",
        "    match = re.match(r\"\"\"[\"']?(.*?)[\"']?:\\s*(True|False),?$\"\"\", row[0].strip())\n",
        "    if match:\n",
        "        text, label = match.groups()\n",
        "        return {\"text\": text.strip(), \"label\": label == \"True\"}\n",
        "    return None\n",
        "\n",
        "parsed_rows = [extract_text_and_label(row) for row in df.values if extract_text_and_label(row)]\n",
        "clean_df = pd.DataFrame(parsed_rows)\n",
        "\n",
        "# Preprocess text\n",
        "stop_words = set(stopwords.words('english'))\n",
        "lemmatizer = WordNetLemmatizer()\n",
        "\n",
        "def preprocess(text):\n",
        "    text = text.lower()\n",
        "    text = re.sub(f\"[{re.escape(string.punctuation)}]\", \"\", text)\n",
        "    words = text.split()\n",
        "    words = [lemmatizer.lemmatize(w) for w in words if w not in stop_words]\n",
        "    return \" \".join(words)\n",
        "\n",
        "clean_df[\"clean_text\"] = clean_df[\"text\"].apply(preprocess)\n",
        "\n",
        "# TF-IDF vectorization\n",
        "vectorizer = TfidfVectorizer(max_features=3000)\n",
        "X = vectorizer.fit_transform(clean_df[\"clean_text\"])\n",
        "y = clean_df[\"label\"]\n",
        "\n",
        "# Train-test split\n",
        "X_train, X_test, y_train, y_test = train_test_split(X, y, test_size=0.2, random_state=42)\n",
        "\n",
        "# Apply SMOTE to training data\n",
        "smote = SMOTE(random_state=42)\n",
        "X_resampled, y_resampled = smote.fit_resample(X_train, y_train)\n",
        "\n",
        "# Train XGBoost model with class weight handling\n",
        "model = XGBClassifier(use_label_encoder=False, eval_metric='logloss')\n",
        "model.fit(X_resampled, y_resampled)\n",
        "\n",
        "# Predict probabilities on test set\n",
        "y_probs = model.predict_proba(X_test)[:, 1]\n",
        "\n",
        "# Threshold tuning: choose 0.4 instead of 0.5\n",
        "y_pred_thresh = (y_probs >= 0.4).astype(int)\n",
        "\n",
        "# Classification report\n",
        "print(classification_report(y_test, y_pred_thresh))\n"
      ],
      "metadata": {
        "colab": {
          "base_uri": "https://localhost:8080/"
        },
        "id": "YdkecUoqBPNr",
        "outputId": "7f596f0b-5810-4f33-8360-0f0ee91ef01c"
      },
      "execution_count": null,
      "outputs": [
        {
          "output_type": "stream",
          "name": "stderr",
          "text": [
            "[nltk_data] Downloading package stopwords to /root/nltk_data...\n",
            "[nltk_data]   Package stopwords is already up-to-date!\n",
            "[nltk_data] Downloading package wordnet to /root/nltk_data...\n",
            "[nltk_data]   Package wordnet is already up-to-date!\n",
            "/usr/local/lib/python3.11/dist-packages/xgboost/core.py:158: UserWarning: [14:11:14] WARNING: /workspace/src/learner.cc:740: \n",
            "Parameters: { \"use_label_encoder\" } are not used.\n",
            "\n",
            "  warnings.warn(smsg, UserWarning)\n"
          ]
        },
        {
          "output_type": "stream",
          "name": "stdout",
          "text": [
            "              precision    recall  f1-score   support\n",
            "\n",
            "       False       0.90      0.89      0.90       113\n",
            "        True       0.48      0.50      0.49        22\n",
            "\n",
            "    accuracy                           0.83       135\n",
            "   macro avg       0.69      0.70      0.69       135\n",
            "weighted avg       0.83      0.83      0.83       135\n",
            "\n"
          ]
        }
      ]
    }
  ]
}