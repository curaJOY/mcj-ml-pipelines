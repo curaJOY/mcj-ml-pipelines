{
 "cells": [
  {
   "cell_type": "code",
   "execution_count": 1,
   "id": "7e9ca947",
   "metadata": {
    "vscode": {
     "languageId": "plaintext"
    }
   },
   "outputs": [],
   "source": [
    "import ast\n",
    "import pandas as pd\n",
    "import re\n",
    "from sklearn.model_selection import train_test_split\n",
    "from sklearn.feature_extraction.text import TfidfVectorizer\n",
    "from sklearn.linear_model import LogisticRegression\n",
    "from sklearn.metrics import classification_report, confusion_matrix\n",
    "import matplotlib.pyplot as plt\n",
    "import seaborn as sns\n",
    "import pickle"
   ]
  },
  {
   "cell_type": "code",
   "execution_count": 7,
   "id": "2eed3d47-3127-426f-bfe3-6fe687167913",
   "metadata": {},
   "outputs": [
    {
     "name": "stdout",
     "output_type": "stream",
     "text": [
      "Parsed 674 entries successfully.\n",
      "                                                text  label\n",
      "0  {'Imagine how many have done this already and ...  False\n",
      "1  JW filed a FOIA lawsuit against State Treasury...  False\n",
      "2  I am curious as to how many priests impregnant...  False\n",
      "3  Should read blames Obama, diminishes the intel...  False\n",
      "4  Global Payroll Specialist Assistant Manager, D...  False\n"
     ]
    }
   ],
   "source": [
    "\n",
    "\n",
    "data_dict = {}\n",
    "\n",
    "with open(\"dataset.txt\", \"r\", encoding=\"utf-8\") as f:\n",
    "    lines = f.readlines()\n",
    "\n",
    "pattern = r'^\\s*([\\'\"]?)(.+?)\\1\\s*:\\s*(True|False)\\s*,?\\s*$'\n",
    "\n",
    "for line in lines:\n",
    "    match = re.match(pattern, line.strip())\n",
    "    if match:\n",
    "        text = match.group(2)\n",
    "        label = True if match.group(3) == \"True\" else False\n",
    "        data_dict[text] = label\n",
    "\n",
    "print(f\"Parsed {len(data_dict)} entries successfully.\")\n",
    "\n",
    "df = pd.DataFrame(list(data_dict.items()), columns=[\"text\", \"label\"])\n",
    "print(df.head())\n"
   ]
  },
  {
   "cell_type": "code",
   "execution_count": 9,
   "id": "e3335705-4fca-454d-ae70-bc7655ca1729",
   "metadata": {},
   "outputs": [
    {
     "name": "stdout",
     "output_type": "stream",
     "text": [
      "\n",
      "Label distribution:\n",
      "label\n",
      "False    589\n",
      "True      85\n",
      "Name: count, dtype: int64\n"
     ]
    },
    {
     "data": {
      "image/png": "[encoded data removed]",
      "text/plain": [
       "<Figure size 640x480 with 1 Axes>"
      ]
     },
     "metadata": {},
     "output_type": "display_data"
    }
   ],
   "source": [
    "print(\"\\nLabel distribution:\")\n",
    "print(df[\"label\"].value_counts())\n",
    "\n",
    "sns.countplot(x=df[\"label\"])\n",
    "plt.title(\"Cyberbullying vs. Non-bullying Samples\")\n",
    "plt.xlabel(\"Label (False=Non-Bullying, True=Bullying)\")\n",
    "plt.ylabel(\"Count\")\n",
    "plt.show()"
   ]
  },
  {
   "cell_type": "code",
   "execution_count": 11,
   "id": "882476d1-0c61-4c7f-a90a-038b91e37607",
   "metadata": {},
   "outputs": [
    {
     "name": "stdout",
     "output_type": "stream",
     "text": [
      "\n",
      "Cleaned text sample:\n",
      "                                                text  \\\n",
      "0  {'Imagine how many have done this already and ...   \n",
      "1  JW filed a FOIA lawsuit against State Treasury...   \n",
      "2  I am curious as to how many priests impregnant...   \n",
      "3  Should read blames Obama, diminishes the intel...   \n",
      "4  Global Payroll Specialist Assistant Manager, D...   \n",
      "\n",
      "                                          clean_text  \n",
      "0  imagine how many have done this already and go...  \n",
      "1  jw filed a foia lawsuit against state treasury...  \n",
      "2  i am curious as to how many priests impregnant...  \n",
      "3  should read blames obama diminishes the intell...  \n",
      "4  global payroll specialist assistant manager du...  \n"
     ]
    }
   ],
   "source": [
    "def clean_text(text):\n",
    "    text = text.lower()\n",
    "    text = re.sub(r\"http\\S+\", \"\", text)        # remove URLs\n",
    "    text = re.sub(r\"[^\\w\\s]\", \"\", text)        # remove punctuation\n",
    "    text = re.sub(r\"\\s+\", \" \", text).strip()   # remove extra whitespace\n",
    "    return text\n",
    "\n",
    "df[\"clean_text\"] = df[\"text\"].apply(clean_text)\n",
    "print(\"\\nCleaned text sample:\")\n",
    "print(df[[\"text\", \"clean_text\"]].head())"
   ]
  },
  {
   "cell_type": "code",
   "execution_count": 13,
   "id": "6b666ed7-aa10-42c4-a512-ed20fc3773d1",
   "metadata": {},
   "outputs": [
    {
     "name": "stdout",
     "output_type": "stream",
     "text": [
      "\n",
      "Training samples: 539, Testing samples: 135\n"
     ]
    }
   ],
   "source": [
    "X_train, X_test, y_train, y_test = train_test_split(\n",
    "    df[\"clean_text\"],\n",
    "    df[\"label\"],\n",
    "    test_size=0.2,\n",
    "    stratify=df[\"label\"],\n",
    "    random_state=42\n",
    ")\n",
    "\n",
    "print(f\"\\nTraining samples: {len(X_train)}, Testing samples: {len(X_test)}\")"
   ]
  },
  {
   "cell_type": "code",
   "execution_count": 15,
   "id": "4d50e9eb-6d60-4db4-8a9c-0cd0cd10dd06",
   "metadata": {},
   "outputs": [
    {
     "name": "stdout",
     "output_type": "stream",
     "text": [
      "\n",
      "TF-IDF vectorization complete.\n"
     ]
    }
   ],
   "source": [
    "vectorizer = TfidfVectorizer(max_features=5000)\n",
    "X_train_vec = vectorizer.fit_transform(X_train)\n",
    "X_test_vec = vectorizer.transform(X_test)\n",
    "\n",
    "print(\"\\nTF-IDF vectorization complete.\")\n"
   ]
  },
  {
   "cell_type": "code",
   "execution_count": 17,
   "id": "339cfa3c-d82f-43b5-94cd-ce3cbfaddd46",
   "metadata": {},
   "outputs": [
    {
     "name": "stdout",
     "output_type": "stream",
     "text": [
      "\n",
      "Model training complete.\n"
     ]
    }
   ],
   "source": [
    "clf = LogisticRegression(max_iter=1000, random_state=42)\n",
    "clf.fit(X_train_vec, y_train)\n",
    "print(\"\\nModel training complete.\")"
   ]
  },
  {
   "cell_type": "code",
   "execution_count": 19,
   "id": "69a71506-1af2-4bf8-8e16-ac4cec4f6c74",
   "metadata": {},
   "outputs": [
    {
     "name": "stdout",
     "output_type": "stream",
     "text": [
      "\n",
      "Classification Report:\n",
      "              precision    recall  f1-score   support\n",
      "\n",
      "Non-Bullying       0.87      0.99      0.93       118\n",
      "    Bullying       0.00      0.00      0.00        17\n",
      "\n",
      "    accuracy                           0.87       135\n",
      "   macro avg       0.44      0.50      0.46       135\n",
      "weighted avg       0.76      0.87      0.81       135\n",
      "\n"
     ]
    },
    {
     "data": {
      "image/png": "[encoded data removed]",
      "text/plain": [
       "<Figure size 640x480 with 2 Axes>"
      ]
     },
     "metadata": {},
     "output_type": "display_data"
    }
   ],
   "source": [
    "y_pred = clf.predict(X_test_vec)\n",
    "print(\"\\nClassification Report:\")\n",
    "print(classification_report(y_test, y_pred, target_names=[\"Non-Bullying\", \"Bullying\"]))\n",
    "\n",
    "cm = confusion_matrix(y_test, y_pred)\n",
    "sns.heatmap(cm, annot=True, fmt=\"d\", cmap=\"Blues\", xticklabels=[\"Non-Bullying\", \"Bullying\"], yticklabels=[\"Non-Bullying\", \"Bullying\"])\n",
    "plt.title(\"Confusion Matrix\")\n",
    "plt.xlabel(\"Predicted\")\n",
    "plt.ylabel(\"Actual\")\n",
    "plt.show()\n"
   ]
  },
  {
   "cell_type": "code",
   "execution_count": 21,
   "id": "b38a7357-3172-4dd0-ab7a-38c8d468bf71",
   "metadata": {},
   "outputs": [
    {
     "name": "stdout",
     "output_type": "stream",
     "text": [
      "\n",
      "✅ Model and vectorizer saved as 'logistic_model.pkl' and 'tfidf_vectorizer.pkl'.\n"
     ]
    }
   ],
   "source": [
    "with open(\"logistic_model.pkl\", \"wb\") as model_file:\n",
    "    pickle.dump(clf, model_file)\n",
    "\n",
    "with open(\"tfidf_vectorizer.pkl\", \"wb\") as vec_file:\n",
    "    pickle.dump(vectorizer, vec_file)\n",
    "\n",
    "print(\"\\n✅ Model and vectorizer saved as 'logistic_model.pkl' and 'tfidf_vectorizer.pkl'.\")\n"
   ]
  },
  {
   "cell_type": "code",
   "execution_count": null,
   "id": "ebf09042-c209-4e6e-aa74-34b25938f275",
   "metadata": {},
   "outputs": [],
   "source": []
  }
 ],
 "metadata": {
  "kernelspec": {
   "display_name": "Python [conda env:base] *",
   "language": "python",
   "name": "conda-base-py"
  },
  "language_info": {
   "codemirror_mode": {
    "name": "ipython",
    "version": 3
   },
   "file_extension": ".py",
   "mimetype": "text/x-python",
   "name": "python",
   "nbconvert_exporter": "python",
   "pygments_lexer": "ipython3",
   "version": "3.12.7"
  }
 },
 "nbformat": 4,
 "nbformat_minor": 5
}
